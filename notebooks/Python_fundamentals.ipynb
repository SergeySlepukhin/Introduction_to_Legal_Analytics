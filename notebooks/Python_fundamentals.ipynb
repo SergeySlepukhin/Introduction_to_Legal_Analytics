{
 "cells": [
  {
   "cell_type": "markdown",
   "id": "c2d6452a",
   "metadata": {},
   "source": [
    "# Python Fundamentals "
   ]
  },
  {
   "cell_type": "markdown",
   "id": "e34d5259",
   "metadata": {},
   "source": [
    "### Как работает код?"
   ]
  },
  {
   "cell_type": "markdown",
   "id": "94ec6ab4",
   "metadata": {},
   "source": [
    "<div style=\"border:solid steelblue 3px; padding: 20px\">\n",
    "\n",
    "Программа (в общем) - последовательность инструкций на каком-то формальном языке, в данном случае - на языке программирования Python. При этом написание интрукций (=программирование) должно основываться на четком представлении о результате, который вы хотели бы достигнуть. Таким образом,\n",
    "\n",
    "(1) сначала вы ставите цель, которую вы хотите достичь в результате выполнения программы;\n",
    "    \n",
    "(2) исследуете и моделируете нужные вам фрагменты предметной области;\n",
    "    \n",
    "(3) продумаваете и алгоритмизируете процесс достижения цели по шагам;\n",
    "    \n",
    "(4) переводите кажды шаг вашего алгоритма на язык программирования"
   ]
  },
  {
   "cell_type": "markdown",
   "id": "f42c06b6",
   "metadata": {},
   "source": [
    "## Основные типы данных: int, float, str, bool"
   ]
  },
  {
   "cell_type": "code",
   "execution_count": null,
   "id": "18b3d579",
   "metadata": {},
   "outputs": [],
   "source": [
    "2 + 2"
   ]
  },
  {
   "cell_type": "code",
   "execution_count": null,
   "id": "c96953df",
   "metadata": {},
   "outputs": [],
   "source": [
    "a = 2 + 2 / 10 \n",
    "type(a)"
   ]
  },
  {
   "cell_type": "code",
   "execution_count": null,
   "id": "3d7551b2",
   "metadata": {},
   "outputs": [],
   "source": [
    "a = 3"
   ]
  },
  {
   "cell_type": "code",
   "execution_count": null,
   "id": "a8006fe5",
   "metadata": {},
   "outputs": [],
   "source": [
    "b = 3"
   ]
  },
  {
   "cell_type": "code",
   "execution_count": null,
   "id": "56c55b62",
   "metadata": {},
   "outputs": [],
   "source": [
    "c = a + b"
   ]
  },
  {
   "cell_type": "code",
   "execution_count": null,
   "id": "0c009f55",
   "metadata": {},
   "outputs": [],
   "source": [
    "c"
   ]
  },
  {
   "cell_type": "code",
   "execution_count": null,
   "id": "326ea86a",
   "metadata": {},
   "outputs": [],
   "source": [
    "print(c)"
   ]
  },
  {
   "cell_type": "code",
   "execution_count": null,
   "id": "5f0c9393",
   "metadata": {},
   "outputs": [],
   "source": [
    "type(c)"
   ]
  },
  {
   "cell_type": "code",
   "execution_count": null,
   "id": "832f0421",
   "metadata": {},
   "outputs": [],
   "source": [
    "d = 2.0\n",
    "type(d)"
   ]
  },
  {
   "cell_type": "code",
   "execution_count": null,
   "id": "26c4cfcc",
   "metadata": {},
   "outputs": [],
   "source": [
    "a = '5'\n",
    "type(a)"
   ]
  },
  {
   "cell_type": "code",
   "execution_count": null,
   "id": "8273857c",
   "metadata": {},
   "outputs": [],
   "source": [
    "a+a"
   ]
  },
  {
   "cell_type": "code",
   "execution_count": null,
   "id": "c481bf3f",
   "metadata": {},
   "outputs": [],
   "source": [
    "a = 'alslsalsa'"
   ]
  },
  {
   "cell_type": "code",
   "execution_count": null,
   "id": "0bc84526",
   "metadata": {},
   "outputs": [],
   "source": [
    "a"
   ]
  },
  {
   "cell_type": "code",
   "execution_count": null,
   "id": "fba59923",
   "metadata": {},
   "outputs": [],
   "source": [
    "type(2 == 2)"
   ]
  },
  {
   "cell_type": "code",
   "execution_count": null,
   "id": "3175384c",
   "metadata": {},
   "outputs": [],
   "source": [
    "2==3"
   ]
  },
  {
   "cell_type": "code",
   "execution_count": null,
   "id": "77755fdc",
   "metadata": {},
   "outputs": [],
   "source": [
    "a = 'Иван '\n",
    "b = 'Иванов'\n",
    "c = a + b\n",
    "print(c)"
   ]
  },
  {
   "cell_type": "code",
   "execution_count": null,
   "id": "43760663",
   "metadata": {},
   "outputs": [],
   "source": [
    "names = ['Ivanov', 'Petrov', 'Sidorov']\n",
    "type(names)"
   ]
  },
  {
   "cell_type": "code",
   "execution_count": null,
   "id": "c20a10ea",
   "metadata": {},
   "outputs": [],
   "source": [
    "digits = [1,2,3]\n",
    "type(names)"
   ]
  },
  {
   "cell_type": "code",
   "execution_count": null,
   "id": "5cdc3e3c",
   "metadata": {},
   "outputs": [],
   "source": [
    "names[2]"
   ]
  },
  {
   "cell_type": "code",
   "execution_count": null,
   "id": "e0bed545",
   "metadata": {},
   "outputs": [],
   "source": [
    "names[0]"
   ]
  },
  {
   "cell_type": "code",
   "execution_count": null,
   "id": "10c95b71",
   "metadata": {},
   "outputs": [],
   "source": [
    "len(names)"
   ]
  },
  {
   "cell_type": "code",
   "execution_count": null,
   "id": "9fee866d",
   "metadata": {},
   "outputs": [],
   "source": [
    "for i in range(len(names)):\n",
    "    print(i)"
   ]
  },
  {
   "cell_type": "code",
   "execution_count": null,
   "id": "dcbff2fe",
   "metadata": {},
   "outputs": [],
   "source": [
    "len('sddddddddddddddddddddddddddddddddddddddddddddddddddddddddddddddddddddddddddddddddddddddddsssssssss')"
   ]
  },
  {
   "cell_type": "code",
   "execution_count": null,
   "id": "4a6ca23b",
   "metadata": {},
   "outputs": [],
   "source": [
    "name = int(input())"
   ]
  },
  {
   "cell_type": "markdown",
   "id": "6d85cc25",
   "metadata": {},
   "source": [
    "## Более подробно о строках"
   ]
  },
  {
   "cell_type": "markdown",
   "id": "4a8844b8",
   "metadata": {},
   "source": [
    "### Индексация и срезы строк"
   ]
  },
  {
   "cell_type": "markdown",
   "id": "dd98177c",
   "metadata": {},
   "source": [
    "<div style=\"border:solid green 3px; padding: 20px\">\n",
    "\n",
    "Изучить самостоятельно"
   ]
  },
  {
   "cell_type": "markdown",
   "id": "406aa0f6",
   "metadata": {},
   "source": [
    "### Сложение строк"
   ]
  },
  {
   "cell_type": "code",
   "execution_count": null,
   "id": "628e0244",
   "metadata": {},
   "outputs": [],
   "source": [
    "print('Я люблю ' + 'Python ')"
   ]
  },
  {
   "cell_type": "markdown",
   "id": "5cbbe5ec",
   "metadata": {},
   "source": [
    "### Умножение строк на число"
   ]
  },
  {
   "cell_type": "code",
   "execution_count": null,
   "id": "9fd130ca",
   "metadata": {},
   "outputs": [],
   "source": [
    "str_1 = 'Я люблю ' + 'Python '\n",
    "str_2 = 'очень ' * 3 + 'сильно!'\n",
    "\n",
    "print(str_1 + str_2)"
   ]
  },
  {
   "cell_type": "markdown",
   "id": "5eb6d29a",
   "metadata": {},
   "source": [
    "Если хотите, чтобы при выводе функция `print()` каждый раз возвращала значение с новой строки, используйте символ перехода на новую строку `/n`"
   ]
  },
  {
   "cell_type": "code",
   "execution_count": null,
   "id": "29f4a33c",
   "metadata": {},
   "outputs": [],
   "source": [
    "print('ГК РФ\\n' * 5) "
   ]
  },
  {
   "cell_type": "code",
   "execution_count": null,
   "id": "1d9bd5a3",
   "metadata": {},
   "outputs": [],
   "source": [
    "type(str_1)"
   ]
  },
  {
   "cell_type": "markdown",
   "id": "d146f4e7",
   "metadata": {},
   "source": [
    "### Методы строк"
   ]
  },
  {
   "cell_type": "markdown",
   "id": "3c27156a",
   "metadata": {},
   "source": [
    "<div style=\"border:solid steelblue 3px; padding: 20px\">\n",
    "\n",
    "Можете считать, что методы - это функции (например, рассмотренная выше функция `print()`), которые вызываются через точку после самой строки."
   ]
  },
  {
   "cell_type": "markdown",
   "id": "5bfec49c",
   "metadata": {},
   "source": [
    "**Метод** `replace()` принимает два аргумента:\n",
    "\n",
    "- подстроку, которую нужно заменить;\n",
    "- подстроку, которая заменит исходную."
   ]
  },
  {
   "cell_type": "code",
   "execution_count": null,
   "id": "2d2f23c3",
   "metadata": {},
   "outputs": [],
   "source": [
    "some_string = 'ГК РФ'\n",
    "print(some_string)\n",
    "some_string = some_string.replace('РФ', 'РК') #заменяем подстроку leav строкой stay\n",
    "print(some_string)"
   ]
  },
  {
   "cell_type": "markdown",
   "id": "9cf19529",
   "metadata": {},
   "source": [
    "**Метод** `find()` найдет подстроку в строке. Если найдёт — вернёт индекс, начиная с которого подстрока встречается в исходной строке. В простом случае методу передают один аргумент — подстроку, которую он должен найти:"
   ]
  },
  {
   "cell_type": "code",
   "execution_count": null,
   "id": "37daacf2",
   "metadata": {},
   "outputs": [],
   "source": [
    "word = 'I, You, We, He, She, They'\n",
    "# подстрока hello входит в строку несколько раз, \n",
    "# но метод вернёт индекс первого вхождения\n",
    "ind = word.find('You')\n",
    "print(ind)"
   ]
  },
  {
   "cell_type": "markdown",
   "id": "55fcef26",
   "metadata": {},
   "source": [
    "**Изменение регистра**\n",
    "\n",
    "**Методы** `upper()` и `lower()` возвращают строки, в которых исходная строка приведена к верхнему и нижнему регистру соответственно:"
   ]
  },
  {
   "cell_type": "code",
   "execution_count": null,
   "id": "5e36d10d",
   "metadata": {},
   "outputs": [],
   "source": [
    "word = 'ОСнОВНоЙ ЗАКОн гоСУДАрсТВА'\n",
    "lower_word = word.lower()\n",
    "upper_word = word.upper()\n",
    "print(lower_word, upper_word)"
   ]
  },
  {
   "cell_type": "markdown",
   "id": "4723ee75",
   "metadata": {},
   "source": [
    "## F-строки\n"
   ]
  },
  {
   "cell_type": "markdown",
   "id": "09ed0375",
   "metadata": {},
   "source": [
    "<div style=\"border:solid steelblue 3px; padding: 20px\">\n",
    "Часто результат взаимодействия программы с пользователем требует создания достаточно длинной строки из символов и значений переменных разных типов."
   ]
  },
  {
   "cell_type": "code",
   "execution_count": null,
   "id": "eed3d142",
   "metadata": {},
   "outputs": [],
   "source": [
    "name = 'Иванов Иван Иванович' # строка\n",
    "age = 23 # целое число\n",
    "salary = 50000 # целое число\n",
    "\n",
    "# Чтобы добавить эти числа в строке,\n",
    "# их придётся преобразовать функцией str()\n",
    "\n",
    "common_data = 'ФИО: ' + name + '\\nвозраст: ' + str(age) + ' года' + '\\nзаработная плата: ' + str(salary) + ' рублей'\n",
    "print(common_data)"
   ]
  },
  {
   "cell_type": "markdown",
   "id": "65d0a897",
   "metadata": {},
   "source": [
    "**Запись кода выше можно упростить форматированием, например, с помощью f-строк**:\n",
    "\n",
    "1) перед строкой добавить символ `f`\n",
    "\n",
    "2) указать имена переменных внутри строки в фигурных скобках {}."
   ]
  },
  {
   "cell_type": "code",
   "execution_count": null,
   "id": "fc92aa8e",
   "metadata": {},
   "outputs": [],
   "source": [
    "name = 'Иванов Иван Иванович' # строка\n",
    "age = 23 # целое число\n",
    "salary = 50000 # целое число\n",
    "\n",
    "# Чтобы добавить эти числа в строке,\n",
    "# их придётся преобразовать функцией str()\n",
    "\n",
    "common_data = f'ФИО: {name}\\nвозраст: {age} года\\nзаработная плата: {salary} рублей'\n",
    "print(common_data)"
   ]
  },
  {
   "cell_type": "markdown",
   "id": "4c46dcec",
   "metadata": {},
   "source": [
    "## Условные операторы if, elif, else"
   ]
  },
  {
   "cell_type": "markdown",
   "id": "e024a114",
   "metadata": {},
   "source": [
    "<div style=\"border:solid steelblue 3px; padding: 20px\">\n",
    "    \n",
    "**Условный оператор `if` реализует выполнение определённых команд при условии, что некоторое логическое выражение (условие) принимает значение «истина» (true)**. В противном случае (else), когда  логическое выражение (условие) принимает значение «ложь» (false), условный оператор `if`: a) реализует выполнение блока альтернативных команд, указанных после ключевых слов `elif`, `else`; b) завершает выполнение программы, если блок альтернативных команд не реализован в коде программы.\n",
    "    \n",
    "---\n",
    "$$Элементы$$ $$if$$\n",
    "    \n",
    "**Ключевое слово** `if`\n",
    "\n",
    "**Логическое выражение** - само условие, то есть проверка на истинность определённого утверждения; для проверки используются операторы сравнения: `==`, `!=`, `>=` и другие;\n",
    "\n",
    "**Двоеточие**: разделяет логическое выражение и блок команд\n",
    "\n",
    "**Блок команд**: содержит команды, которые выполнит программа, если утверждение окажется истиной."
   ]
  },
  {
   "cell_type": "code",
   "execution_count": null,
   "id": "4207b532",
   "metadata": {},
   "outputs": [],
   "source": [
    "term = int(input('На какой срок планируете заключить договор аренды недвижимого имущества (укажите количество месяцев)? ')) # рейтинг фильма «Крёстный отец»\n",
    "if term >= 12:\n",
    "    print('Договор подлежит государственной регистрации')\n",
    "else:\n",
    "    print('Договор регистрировать не нужно')"
   ]
  },
  {
   "cell_type": "markdown",
   "id": "8713de47",
   "metadata": {},
   "source": [
    "<div style=\"border:solid steelblue 3px; padding: 20px\">\n",
    "    \n",
    "Для того, чтобы добавить дополнительные ветви в условную конструкцию, используют **ключевое слово** `elif`. Таких ветвей может быть любое количество, однако из них будет выполнена только одна — та, условие которой исполнилось первым. Остальные ветви будут проигнорированы."
   ]
  },
  {
   "cell_type": "code",
   "execution_count": null,
   "id": "f9a62ddc",
   "metadata": {},
   "outputs": [],
   "source": [
    "age_list = [10, 15, 20, 100]\n",
    "for age in age_list:\n",
    "    if 0 <= age <= 13:\n",
    "        print(f'Участнику сделки {age} лет (года), сделка является ничтожной в силу закона (ст. 172 ГК РФ)')\n",
    "    elif 14 <= age < 18:\n",
    "        print(f'Участнику сделки {age} лет (года), сделка является оспоримой по иску законных представителей (ст. 175 ГК РФ)')\n",
    "    elif 60 <= age:\n",
    "        print(f'''Участнику сделки {age} лет (года), будьте внимательны, для минимизации оспаривания сделки по основаниям:\n",
    "        ст. 177 ГК РФ (Недействительность сделки, совершенной гражданином, не способным понимать значение своих действий или \n",
    "        руководить ими),\n",
    "        ст. 178 ГК РФ (Недействительность сделки, совершенной под влиянием существенного заблуждения),\n",
    "        ст. 179 ГК РФ (Недействительность сделки, совершенной под влиянием обмана, насилия, угрозы или неблагоприятных \n",
    "        обстоятельств),\n",
    "        обратитесь к профессиональному юристу для получения консультации''')\n",
    "    else:\n",
    "        print(f'''Участнику сделки {age} лет (года), гражданин обладает полной дееспособностью...однако не стоит расслабляться: \n",
    "              проверьте сделку на наличие всех пороков, тел. для обратной связи: ...''')"
   ]
  },
  {
   "cell_type": "markdown",
   "id": "9b1ebee2",
   "metadata": {},
   "source": [
    "<div style=\"border:solid steelblue 3px; padding: 20px\">\n",
    "\n",
    "**Сложные логические выражения**\n",
    "\n",
    "*Логическое выражение* - это выражение результатом которого является `True` или `False`. Логические выражения составляются из более простых с помощью операторов: `<`, `>`, `==`, `!=` и т.п."
   ]
  },
  {
   "cell_type": "markdown",
   "id": "2940f0c5",
   "metadata": {},
   "source": [
    "**Логическое «ИЛИ»** возвращает `True`, если хотя бы одно выражение оказалось истинным. "
   ]
  },
  {
   "cell_type": "code",
   "execution_count": null,
   "id": "2bd636b0",
   "metadata": {},
   "outputs": [],
   "source": [
    "result_1_or_1 = True or True\n",
    "print(result_1_or_1)\n",
    "result_1_or_0 = True or False\n",
    "print(result_1_or_0)\n",
    "result_0_or_1 = False or True\n",
    "print(result_0_or_1)\n",
    "result_0_or_0 = False or False\n",
    "print(result_0_or_0)"
   ]
  },
  {
   "cell_type": "markdown",
   "id": "3d505f57",
   "metadata": {},
   "source": [
    "**Логическое «И»** возвращает `True` только если оба логических значения истинные. "
   ]
  },
  {
   "cell_type": "code",
   "execution_count": null,
   "id": "b8000653",
   "metadata": {},
   "outputs": [],
   "source": [
    "result_1_and_1 = True and True\n",
    "print(result_1_and_1)\n",
    "result_1_and_0 = True and False\n",
    "print(result_1_and_0)\n",
    "result_0_and_1 = False and True\n",
    "print(result_0_and_1)\n",
    "result_0_and_0 = False and False\n",
    "print(result_0_and_0)"
   ]
  },
  {
   "cell_type": "markdown",
   "id": "bfec4b70",
   "metadata": {},
   "source": [
    " **Отрицание** логических выражений задается с помощью оператора `not`, который меняет данное значение на противоположное"
   ]
  },
  {
   "cell_type": "code",
   "execution_count": null,
   "id": "70507864",
   "metadata": {},
   "outputs": [],
   "source": [
    "result_1 = not True\n",
    "print(result_1)\n",
    "result_2 = not False\n",
    "print(result_2)"
   ]
  },
  {
   "cell_type": "markdown",
   "id": "1f75d8e1",
   "metadata": {},
   "source": [
    "**Все вместе в таблице истинности**"
   ]
  },
  {
   "cell_type": "code",
   "execution_count": null,
   "id": "8e558f63",
   "metadata": {},
   "outputs": [],
   "source": [
    "pip install tabulate"
   ]
  },
  {
   "cell_type": "code",
   "execution_count": null,
   "id": "09a28443",
   "metadata": {},
   "outputs": [],
   "source": [
    "from tabulate import tabulate\n",
    "print(tabulate([[True, True, True, True, False],\n",
    "                [True, False, False, True, False],\n",
    "                [False, True, False, True, True],\n",
    "                [False, False, False, False, True]],\n",
    "               headers=['Выражение A', 'Выражение B', 'A and B', 'A or B', 'not A'],\n",
    "               tablefmt='orgtbl'))"
   ]
  },
  {
   "cell_type": "code",
   "execution_count": null,
   "id": "ab947ff5",
   "metadata": {},
   "outputs": [],
   "source": [
    "num = int(input('Введите число от 1 до 10: '))\n",
    "\n",
    "if num <= 7 and num > 4:\n",
    "    print(f'число {num} соответствует двум условиям: оно меньше или равно семи и больше четырёх')\n",
    "\n",
    "elif num <= 7 and num > 4 and num != 1:\n",
    "    print(f'число {num} соответствует трём условиям: оно меньше или равно семи и больше четырёх и не равно одному') \n",
    "else:\n",
    "    print(f'число {num} не соответствует первым двум условиям')"
   ]
  },
  {
   "cell_type": "code",
   "execution_count": null,
   "id": "8484f4bc",
   "metadata": {},
   "outputs": [],
   "source": [
    "num = int(input('Введите число от 1 до 10: '))\n",
    "\n",
    "if ((num <= 7 and num > 4) or\n",
    "   num != 1):\n",
    "    print(f'число {num} соответствует одному из условий: 1) оно меньше или равно семи и больше четырёх или 2) не равно одному')\n",
    "else:\n",
    "    print(f'число {num} не соответствует ни одному условию')"
   ]
  },
  {
   "cell_type": "markdown",
   "id": "9c6e5ad8",
   "metadata": {},
   "source": [
    "<div style=\"border:solid black 3px; padding: 20px\">\n",
    "\n",
    "Знания получены, требуется их закрепить! Напишем программу, которая на основе введенных данных об орг. форме бизнеса и полученного дохода посчитает сумму налога к уплате."
   ]
  },
  {
   "cell_type": "markdown",
   "id": "0fcd1f0b",
   "metadata": {},
   "source": [
    "ООО: 15 %\n",
    "ИП: 6 %\n",
    "ФЛ: 13 %"
   ]
  },
  {
   "cell_type": "code",
   "execution_count": null,
   "id": "851e113a",
   "metadata": {},
   "outputs": [],
   "source": [
    "name = input ()"
   ]
  },
  {
   "cell_type": "code",
   "execution_count": null,
   "id": "5c39f027",
   "metadata": {},
   "outputs": [],
   "source": [
    "type_ = input()"
   ]
  },
  {
   "cell_type": "code",
   "execution_count": null,
   "id": "cac4c6bf",
   "metadata": {},
   "outputs": [],
   "source": [
    "income = int(input())"
   ]
  },
  {
   "cell_type": "code",
   "execution_count": null,
   "id": "89a60c7e",
   "metadata": {},
   "outputs": [],
   "source": [
    "min_income = 16242 "
   ]
  },
  {
   "cell_type": "code",
   "execution_count": null,
   "id": "ab1f3502",
   "metadata": {},
   "outputs": [],
   "source": [
    "if type_ == 'ООО':\n",
    "    tax = income * 0.15\n",
    "    net_income = income - tax \n",
    "    print(f'{name}, сумма налога к уплате составит {int(tax)} рублей, чистый доход Вашей организации -- {int(net_income)} рублей.')\n",
    "elif type_ == 'ИП':\n",
    "    tax = income * 0.06\n",
    "    net_income = income - tax \n",
    "    print(f'{name}, вы зарегистрированы как {type_} ваш налог составит {int(tax)} рублей, а чистый доход -- {int(net_income)} рублей.')\n",
    "else:\n",
    "    tax = income * 0.13\n",
    "    net_income = income - tax \n",
    "    print(f'{name}, вы зарегистрированы как {type_} ваш налог составит {int(tax)} рублей, а чистый доход -- {int(net_income)} рублей.')\n",
    "    if net_income <= min_income:\n",
    "        print(f'{name}, ваша зп меньше прожиточного минимума на {min_income - net_income}')\n",
    "    else:\n",
    "        print(f'{name}, поздравляю, возможно, вы - средний класс!')"
   ]
  },
  {
   "cell_type": "markdown",
   "id": "4e00b40e",
   "metadata": {},
   "source": [
    "<div style=\"border:solid black 3px; padding: 20px\">\n",
    "\n",
    "Ниже приведен пример чуть более сложной программы (с точки зрения построения и реализации логических выражений), которая дает оценку наличия рисков покупки квартиры на основе информации, полученной от пользователя.\n",
    "    \n",
    "---\n",
    "Это, конечно, не самый лучший пример реализации подобной программы, однако для учебных целей данный прототип хорош: внимательно изучите код; подумайте, как можно его оптимизировать, улучшить, найдите возможные ошибки в реализации."
   ]
  },
  {
   "cell_type": "code",
   "execution_count": null,
   "id": "770e99c4",
   "metadata": {},
   "outputs": [],
   "source": [
    "\n",
    "greeting = input (f'''Приветствую! Покупка квартиры - это ответственный шаг! Вы получили расширенную выписку из ЕГРН и \n",
    "хотели бы узнать, какие моменты требуют особого внимания? ''')\n",
    "responses = [\n",
    "    'Основных рисков при анализе выписки не обнаружено!',\n",
    "    'Данные по собственникам не совпадают, будьте осторожны, возможно вам предоставили поддельные документы!',\n",
    "    'Скорее всего, для совершения сделки вам потребуется письменное согласие лица, в пользу которого установлено обременение',\n",
    "    'Будьте внимательны! Возможно в квартире произведена незаконная перепланировка, банк может отказать вам в ипотеке.',\n",
    "]\n",
    "if (greeting != 'да' and\n",
    "    greeting != 'Да' and\n",
    "    greeting != 'ДА'):\n",
    "    print('В любом случае, обязательно закажите выписку из ЕГРН перед покупкой квартиры! Всего наилучшего!')\n",
    "else:    \n",
    "    q_1 = input (f'Количество собственников совпадает с количеством продавцов (да | нет)? ')\n",
    "    q_2 = input (f'Данные собственников совпадают с теми, что указаны в паспорте (да | нет)? ')\n",
    "    q_3 = input (f'Наличие обременений — например, ипотеки, аренды (да | нет)? ')\n",
    "    q_4 = input (f'Фактическая площадь или планировка квартиры не соответствует техническому плану (да | нет)? ')\n",
    "    if (q_1 == 'да' and q_2 == 'да' and q_3 == 'нет' and q_4 == 'да'):\n",
    "        print('\\n-------------------РЕЗУЛЬТАТ ЭКСПЕРТИЗЫ--------------------\\n' + responses[0])\n",
    "    elif ((q_1 == 'нет' or q_2 == 'нет') and (q_3 == 'нет' and q_4 == 'да')):\n",
    "        print('\\n-------------------РЕЗУЛЬТАТ ЭКСПЕРТИЗЫ--------------------\\n' + responses[1])\n",
    "    elif (q_1 == 'да' and q_2 == 'да' and q_3 == 'да' and q_4 == 'да'):\n",
    "        print('\\n-------------------РЕЗУЛЬТАТ ЭКСПЕРТИЗЫ--------------------\\n' + responses[2])\n",
    "    elif (q_1 == 'да' and q_2 == 'да' and q_3 == 'нет' and q_4 == 'нет'):\n",
    "        print('\\n-------------------РЕЗУЛЬТАТ ЭКСПЕРТИЗЫ--------------------\\n' + responses[3])\n",
    "    elif ((q_1 == 'да' or q_2 == 'да') and (q_3 == 'да' and q_4 == 'нет')):\n",
    "        print('\\n-------------------РЕЗУЛЬТАТ ЭКСПЕРТИЗЫ--------------------\\n' + responses[2] + '\\n' + responses[3])\n",
    "    elif ((q_1 == 'нет' or q_2 == 'нет') and (q_3 == 'да' and q_4 == 'да')):\n",
    "        print('\\n-------------------РЕЗУЛЬТАТ ЭКСПЕРТИЗЫ--------------------\\n' + responses[1] + '\\n' + responses[2])\n",
    "    elif ((q_1 == 'нет' or q_2 == 'нет') and (q_3 == 'нет' and q_4 == 'нет')):\n",
    "        print('\\n-------------------РЕЗУЛЬТАТ ЭКСПЕРТИЗЫ--------------------\\n' + responses[1] + '\\n' + responses[3])\n",
    "    elif ((q_1 == 'нет' or q_2 == 'нет') and (q_3 == 'да' and q_4 == 'нет')):\n",
    "        print('\\n-------------------РЕЗУЛЬТАТ ЭКСПЕРТИЗЫ--------------------\\n' \n",
    "              + responses[1] + '\\n' + responses[2] + '\\n' + responses[3])\n",
    "    else:\n",
    "        print('\\n-------------------ОШИБКА--------------------\\n',\n",
    "        'Введены некорректные данные, попробуйте еще раз')"
   ]
  },
  {
   "cell_type": "markdown",
   "id": "83313090",
   "metadata": {},
   "source": [
    "## Цикл while"
   ]
  },
  {
   "cell_type": "markdown",
   "id": "f51548d7",
   "metadata": {},
   "source": [
    "<div style=\"border:solid steelblue 3px; padding: 20px\">\n",
    "$$Элементы$$ $$while$$\n",
    "\n",
    "    \n",
    "**Ключевое слово** `while`.\n",
    "\n",
    "**Условие, истинность которого проверяется**: пока условие истинно, цикл работает, как только условие становится ложным, цикл завершается.\n",
    "\n",
    "**Двоеточие**: разделяет две части цикла (заголовок: `while <условие>` и тело цикла)\n",
    "\n",
    "**Тело цикла**: содержит команды, которые выполняются на каждой итерации цикла; перед каждой командой в теле цикла ставится отступ в четыре пробела."
   ]
  },
  {
   "cell_type": "markdown",
   "id": "6ab3444e",
   "metadata": {},
   "source": [
    "**Задачка: найти и посчитать все гласные в строке**"
   ]
  },
  {
   "cell_type": "code",
   "execution_count": null,
   "id": "6080f996",
   "metadata": {},
   "outputs": [],
   "source": [
    "poem = \"\"\"Буря мглою небо кроет, Вихри снежные крутя; \n",
    "То, как зверь, она завоет, То заплачет, как дитя, То по кровле обветшалой Вдруг соломой зашумит, То, как путник запоздалый, К нам в окошко застучит.\"\"\""
   ]
  },
  {
   "cell_type": "code",
   "execution_count": null,
   "id": "03837ba6",
   "metadata": {},
   "outputs": [],
   "source": [
    "len(poem)"
   ]
  },
  {
   "cell_type": "code",
   "execution_count": null,
   "id": "cd5fd775",
   "metadata": {},
   "outputs": [],
   "source": [
    "poem[-1]"
   ]
  },
  {
   "cell_type": "code",
   "execution_count": null,
   "id": "1efa3cce",
   "metadata": {},
   "outputs": [],
   "source": [
    "index = 0"
   ]
  },
  {
   "cell_type": "code",
   "execution_count": null,
   "id": "3361a0f7",
   "metadata": {},
   "outputs": [],
   "source": [
    "vowels = 'аоэеиыуёюя'"
   ]
  },
  {
   "cell_type": "code",
   "execution_count": null,
   "id": "42bde210",
   "metadata": {},
   "outputs": [],
   "source": [
    "poem_vowels = ''"
   ]
  },
  {
   "cell_type": "code",
   "execution_count": null,
   "id": "c79d793a",
   "metadata": {},
   "outputs": [],
   "source": [
    "while index != len(poem):\n",
    "    if poem[index] in vowels:\n",
    "        poem_vowels += poem[index]\n",
    "    index += 1\n",
    "print(poem_vowels)"
   ]
  },
  {
   "cell_type": "markdown",
   "id": "118ce589",
   "metadata": {},
   "source": [
    "**Обратите внимание!** Если программа написана так, что условие цикла while не имеет шансов стать ложным, мы получим бесконечный цикл, который не остановится без внешнего вмешательства. Ниже приведен пример такой программы: пока не будет введен верный пароль, программа будет запрашивать его у пользователя. С бесконечными циклами также работают, их свойства используют при написании программ, однако на текущем уровне реализация такого цикла = ошибка начинающего программиста."
   ]
  },
  {
   "cell_type": "code",
   "execution_count": null,
   "id": "ba4bc3a9",
   "metadata": {},
   "outputs": [],
   "source": [
    "pass_true = 'dura_lex_sed_lex'\n",
    "ps = ''\n",
    " \n",
    "while ps != pass_true:\n",
    "    ps = input(\"Введите пароль: \")\n",
    "print('Вход в систему осуществлен')"
   ]
  },
  {
   "cell_type": "markdown",
   "id": "2c255b0d",
   "metadata": {},
   "source": [
    "## Цикл for"
   ]
  },
  {
   "cell_type": "markdown",
   "id": "47ecd843",
   "metadata": {},
   "source": [
    "### Элементы цикла"
   ]
  },
  {
   "cell_type": "markdown",
   "id": "69c9744c",
   "metadata": {},
   "source": [
    "<div style=\"border:solid steelblue 3px; padding: 20px\">\n",
    "$$Элементы$$ $$for$$\n",
    "\n",
    "    \n",
    "**Ключевое слово** `for`указывает, к чему относятся дальнейшие инструкции.\n",
    "\n",
    "**Переменная цикла** - это переменная, которая поочерёдно принимает значения каждого элемента итерируемого объета (нап., списка или строки), имя переменной может быть любым, наиболее часто используют: `i`, `value`, `x`.\n",
    "\n",
    "**Ключевое слово** `in`: назначение и смысл, думаю, понятны.\n",
    "\n",
    "**Двоеточие**: разделяет две части цикла\n",
    "\n",
    "**Тело цикла**: содержит команды, которые выполняются на каждой итерации цикла; перед каждой командой в теле цикла ставится отступ в четыре пробела."
   ]
  },
  {
   "cell_type": "code",
   "execution_count": null,
   "id": "679a0f9f",
   "metadata": {},
   "outputs": [],
   "source": [
    "acts = [\"закон\", \"постановление\", \"указ\"]  # пример со списком\n",
    "for x in acts:  \n",
    "    print(x)"
   ]
  },
  {
   "cell_type": "code",
   "execution_count": null,
   "id": "2c04358f",
   "metadata": {},
   "outputs": [],
   "source": [
    "for x in \"Закон\": # пример со строкой\n",
    "    print(x)"
   ]
  },
  {
   "cell_type": "code",
   "execution_count": null,
   "id": "73b04498",
   "metadata": {},
   "outputs": [],
   "source": [
    "string = '我喜欢法律科技' # пример со строкой на китайском\n",
    "for symbol in string:  \n",
    "    print(symbol)"
   ]
  },
  {
   "cell_type": "markdown",
   "id": "146b7f05",
   "metadata": {},
   "source": [
    "### Цикл с перебором индексов"
   ]
  },
  {
   "cell_type": "markdown",
   "id": "3d17abf7",
   "metadata": {},
   "source": [
    "<div style=\"border:solid steelblue 3px; padding: 20px\">\n",
    "Выше переменная на каждой итерации цикла последовательно принимала определенное значение из данного списка. Часто более удобно и (или) рационально обращаться к элементам итерируемого объекта по индексам этих элементов. Например, при выполнении операции с элементами двух списков:"
   ]
  },
  {
   "cell_type": "code",
   "execution_count": null,
   "id": "1d98f0b5",
   "metadata": {},
   "outputs": [],
   "source": [
    "# здесь, последовательно обращаясь к элементам каждого из списков по соответствующим индексам, выводим сумму таких элементов\n",
    "first_list = [9, 18, 27, 36, 45, 54, 63, 72, 81]\n",
    "second_list = [1, 2, 3, 4, 5, 6, 7, 8, 9]\n",
    "\n",
    "for index in [0, 1, 2, 3, 4, 5, 6, 7, 8]:\n",
    "    print(first_list[index] + second_list[index]) "
   ]
  },
  {
   "cell_type": "markdown",
   "id": "1936dee9",
   "metadata": {},
   "source": [
    "### Функция range()"
   ]
  },
  {
   "cell_type": "markdown",
   "id": "f781b5c0",
   "metadata": {},
   "source": [
    "<div style=\"border:solid steelblue 3px; padding: 20px\">\n",
    "\n",
    "Очевидно, что каждый раз составлять список индексов итерируемого объекта вручную не очень удобно. Рассматриваемая функция, как раз, избавляет нас от лишней рутинной работы: она позволяет сгенерировать последовательность чисел в заданном диапазоне."
   ]
  },
  {
   "cell_type": "code",
   "execution_count": null,
   "id": "d6bbbaf0",
   "metadata": {},
   "outputs": [],
   "source": [
    "# здесь, последовательно обращаясь к элементам каждого из списков по соответствующим индексам, выводим сумму таких элементов\n",
    "first_list = [9, 18, 27, 36, 45, 54, 63, 72, 81]\n",
    "second_list = [1, 2, 3, 4, 5, 6, 7, 8, 9]\n",
    "\n",
    "for index in range(9):\n",
    "    print(first_list[index] + second_list[index]) "
   ]
  },
  {
   "cell_type": "markdown",
   "id": "195fd0fb",
   "metadata": {},
   "source": [
    "### Функция len()"
   ]
  },
  {
   "cell_type": "markdown",
   "id": "678a6ddb",
   "metadata": {},
   "source": [
    "<div style=\"border:solid steelblue 3px; padding: 20px\">\n",
    "Рассматриваемая функция возвращает длину последовательности. При создании цикла с перебором индексов в скобках range() вместо конкретного количества элементов исходного списка (как мы это сделали выше), удобнее использовать функцию `len()`:"
   ]
  },
  {
   "cell_type": "code",
   "execution_count": null,
   "id": "56bc52d8",
   "metadata": {},
   "outputs": [],
   "source": [
    "# здесь, последовательно обращаясь к элементам каждого из списков по соответствующим индексам, выводим сумму таких элементов\n",
    "first_list = [9, 18, 27, 36, 45, 54, 63, 72, 81]\n",
    "second_list = [1, 2, 3, 4, 5, 6, 7, 8, 9]\n",
    "\n",
    "for index in range(len(first_list)):\n",
    "    print(first_list[index] + second_list[index]) "
   ]
  },
  {
   "cell_type": "code",
   "execution_count": null,
   "id": "03135efa",
   "metadata": {},
   "outputs": [],
   "source": [
    "print(len('Конституция'))"
   ]
  },
  {
   "cell_type": "markdown",
   "id": "269577b2",
   "metadata": {},
   "source": [
    "# Робот-юрист \"Гай-2023\" сломался..."
   ]
  },
  {
   "cell_type": "markdown",
   "id": "5faf5f46",
   "metadata": {},
   "source": [
    "<div style=\"border:solid red 3px; padding: 20px\">\n",
    "\n",
    "Случилось несчастье! Знаменитый, разошедшийся большим тиражом робот-юрист \"Гай-2023\", сломался. Массовое недовольство клиентов, экспоненциальный рост немотивированных обращений по возвратам. В отделе аналитики возникла гипотеза о том, что значительным фактором, вызвавшим массовое недовольство клиентов, стала некачественная работа робота-асситента \"Цицерон\"... "
   ]
  },
  {
   "cell_type": "code",
   "execution_count": null,
   "id": "800e9570",
   "metadata": {},
   "outputs": [],
   "source": [
    "name = input ('Как я к Вам могу обращаться? ')\n",
    "print(f'Здравствуйте, {name}! Как я могу Вам помочь?')\n",
    "client_message = input ()\n",
    "if 'Добрый день' in client_message:\n",
    "    print('Добрый день, с вами говорит ИИ \"Цицерон\"')\n",
    "elif 'поломался' in client_message:\n",
    "    print('Очень жаль! С ними такое обычно не случается. Попробуйте перезагрузить.')\n",
    "else:\n",
    "    print('Спасибо, что обратились! До свидания!')"
   ]
  },
  {
   "cell_type": "markdown",
   "id": "b90312ec",
   "metadata": {},
   "source": [
    "Теперь понятно, что вызвало недовольство! \n",
    "Поэкспериментируйте со значениями переменной client_message. Попробуйте различные варианты обращений и оцените реакцию Цицерона."
   ]
  },
  {
   "cell_type": "markdown",
   "id": "f20d1bca",
   "metadata": {},
   "source": [
    "## Давайте попробуем улучшить работу нашего \"Цицерона\"!"
   ]
  },
  {
   "cell_type": "markdown",
   "id": "e18ab3ce",
   "metadata": {},
   "source": [
    "<div style=\"border:solid green 3px; padding: 20px\">\n",
    "\n",
    "Ниже (или в отдельном ноутбуке) попробуйте реализовать версию улучшенного \"Цицирона\", учитывающего наиболее частые запросы пользователей и адекватно поддерживающего общение с пользователем до возможного решения его проблемы."
   ]
  },
  {
   "cell_type": "code",
   "execution_count": null,
   "id": "7878cbee",
   "metadata": {},
   "outputs": [],
   "source": []
  }
 ],
 "metadata": {
  "kernelspec": {
   "display_name": "Python 3",
   "language": "python",
   "name": "python3"
  },
  "language_info": {
   "codemirror_mode": {
    "name": "ipython",
    "version": 3
   },
   "file_extension": ".py",
   "mimetype": "text/x-python",
   "name": "python",
   "nbconvert_exporter": "python",
   "pygments_lexer": "ipython3",
   "version": "3.8.8"
  }
 },
 "nbformat": 4,
 "nbformat_minor": 5
}
